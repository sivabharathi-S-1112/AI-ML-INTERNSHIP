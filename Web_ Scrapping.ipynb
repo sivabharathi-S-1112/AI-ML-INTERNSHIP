{
 "cells": [
  {
   "cell_type": "code",
   "execution_count": 1,
   "id": "7a4d7fc2-18ef-4b04-9bf5-cbc10bd38813",
   "metadata": {},
   "outputs": [],
   "source": [
    "import requests\n",
    "from bs4 import BeautifulSoup"
   ]
  },
  {
   "cell_type": "code",
   "execution_count": 2,
   "id": "5fb9a401-0e79-4aae-9040-a39ee4ad9987",
   "metadata": {},
   "outputs": [],
   "source": [
    "url = \"http://books.toscrape.com\""
   ]
  },
  {
   "cell_type": "code",
   "execution_count": 3,
   "id": "8ffae1a4-1af3-47b7-ac63-11924de3d4c4",
   "metadata": {},
   "outputs": [],
   "source": [
    "response=requests.get( \"http://books.toscrape.com\")"
   ]
  },
  {
   "cell_type": "code",
   "execution_count": 4,
   "id": "028ad8c3-7b6a-4cb3-843a-51a22f648d91",
   "metadata": {},
   "outputs": [],
   "source": [
    "soup = BeautifulSoup(response.text, 'html.parser')"
   ]
  },
  {
   "cell_type": "code",
   "execution_count": 5,
   "id": "6c57adbc-0d2c-49bf-a651-6d95ce414798",
   "metadata": {},
   "outputs": [
    {
     "name": "stdout",
     "output_type": "stream",
     "text": [
      "Title: A Light in the Attic\n",
      "Price: Â£51.77\n",
      "\n",
      "Title: Tipping the Velvet\n",
      "Price: Â£53.74\n",
      "\n",
      "Title: Soumission\n",
      "Price: Â£50.10\n",
      "\n",
      "Title: Sharp Objects\n",
      "Price: Â£47.82\n",
      "\n",
      "Title: Sapiens: A Brief History of Humankind\n",
      "Price: Â£54.23\n",
      "\n",
      "Title: The Requiem Red\n",
      "Price: Â£22.65\n",
      "\n",
      "Title: The Dirty Little Secrets of Getting Your Dream Job\n",
      "Price: Â£33.34\n",
      "\n",
      "Title: The Coming Woman: A Novel Based on the Life of the Infamous Feminist, Victoria Woodhull\n",
      "Price: Â£17.93\n",
      "\n",
      "Title: The Boys in the Boat: Nine Americans and Their Epic Quest for Gold at the 1936 Berlin Olympics\n",
      "Price: Â£22.60\n",
      "\n",
      "Title: The Black Maria\n",
      "Price: Â£52.15\n",
      "\n",
      "Title: Starving Hearts (Triangular Trade Trilogy, #1)\n",
      "Price: Â£13.99\n",
      "\n",
      "Title: Shakespeare's Sonnets\n",
      "Price: Â£20.66\n",
      "\n",
      "Title: Set Me Free\n",
      "Price: Â£17.46\n",
      "\n",
      "Title: Scott Pilgrim's Precious Little Life (Scott Pilgrim #1)\n",
      "Price: Â£52.29\n",
      "\n",
      "Title: Rip it Up and Start Again\n",
      "Price: Â£35.02\n",
      "\n",
      "Title: Our Band Could Be Your Life: Scenes from the American Indie Underground, 1981-1991\n",
      "Price: Â£57.25\n",
      "\n",
      "Title: Olio\n",
      "Price: Â£23.88\n",
      "\n",
      "Title: Mesaerion: The Best Science Fiction Stories 1800-1849\n",
      "Price: Â£37.59\n",
      "\n",
      "Title: Libertarianism for Beginners\n",
      "Price: Â£51.33\n",
      "\n",
      "Title: It's Only the Himalayas\n",
      "Price: Â£45.17\n",
      "\n"
     ]
    }
   ],
   "source": [
    "books = soup.find_all('article', class_='product_pod')\n",
    "for book in books:\n",
    "    title = book.h3.a['title']\n",
    "    price = book.find('p', class_='price_color').text\n",
    "    print(f\"Title: {title}\\nPrice: {price}\\n\")"
   ]
  },
  {
   "cell_type": "code",
   "execution_count": 6,
   "id": "0fa7c0b3-d397-4ba7-9cde-e7a91cd0b048",
   "metadata": {},
   "outputs": [
    {
     "name": "stdout",
     "output_type": "stream",
     "text": [
      "Title: A Light in the Attic\n",
      "Price:Â£51.77\n",
      "\n",
      "Title: Tipping the Velvet\n",
      "Price:Â£53.74\n",
      "\n",
      "Title: Soumission\n",
      "Price:Â£50.10\n",
      "\n",
      "Title: Sharp Objects\n",
      "Price:Â£47.82\n",
      "\n",
      "Title: Sapiens: A Brief History of Humankind\n",
      "Price:Â£54.23\n",
      "\n",
      "Title: The Requiem Red\n",
      "Price:Â£22.65\n",
      "\n",
      "Title: The Dirty Little Secrets of Getting Your Dream Job\n",
      "Price:Â£33.34\n",
      "\n",
      "Title: The Coming Woman: A Novel Based on the Life of the Infamous Feminist, Victoria Woodhull\n",
      "Price:Â£17.93\n",
      "\n",
      "Title: The Boys in the Boat: Nine Americans and Their Epic Quest for Gold at the 1936 Berlin Olympics\n",
      "Price:Â£22.60\n",
      "\n",
      "Title: The Black Maria\n",
      "Price:Â£52.15\n",
      "\n",
      "Title: Starving Hearts (Triangular Trade Trilogy, #1)\n",
      "Price:Â£13.99\n",
      "\n",
      "Title: Shakespeare's Sonnets\n",
      "Price:Â£20.66\n",
      "\n",
      "Title: Set Me Free\n",
      "Price:Â£17.46\n",
      "\n",
      "Title: Scott Pilgrim's Precious Little Life (Scott Pilgrim #1)\n",
      "Price:Â£52.29\n",
      "\n",
      "Title: Rip it Up and Start Again\n",
      "Price:Â£35.02\n",
      "\n",
      "Title: Our Band Could Be Your Life: Scenes from the American Indie Underground, 1981-1991\n",
      "Price:Â£57.25\n",
      "\n",
      "Title: Olio\n",
      "Price:Â£23.88\n",
      "\n",
      "Title: Mesaerion: The Best Science Fiction Stories 1800-1849\n",
      "Price:Â£37.59\n",
      "\n",
      "Title: Libertarianism for Beginners\n",
      "Price:Â£51.33\n",
      "\n",
      "Title: It's Only the Himalayas\n",
      "Price:Â£45.17\n",
      "\n"
     ]
    }
   ],
   "source": [
    "book_data = []\n",
    "books = soup.find_all('article', class_='product_pod')\n",
    "for book in books:\n",
    "    title = book.h3.a['title']\n",
    "    price = book.find('p', class_='price_color').text\n",
    "    print(f\"Title: {title}\\nPrice:{price}\\n\")\n",
    "    book_data.append({\"Title\": title, \"price\": price})"
   ]
  },
  {
   "cell_type": "code",
   "execution_count": 7,
   "id": "2f4e5c99-8b2e-4ccc-9eb1-2a7d46bfdd55",
   "metadata": {},
   "outputs": [],
   "source": [
    "import pandas as pd"
   ]
  },
  {
   "cell_type": "code",
   "execution_count": 8,
   "id": "951cfa82-b378-4f51-b004-49675a7e0e5b",
   "metadata": {},
   "outputs": [
    {
     "name": "stdout",
     "output_type": "stream",
     "text": [
      "\n"
     ]
    }
   ],
   "source": [
    "df=pd.DataFrame(book_data)\n",
    "print()"
   ]
  },
  {
   "cell_type": "code",
   "execution_count": 9,
   "id": "e2a23fd0-dd16-45a9-afb6-60f9840440cf",
   "metadata": {},
   "outputs": [
    {
     "name": "stdout",
     "output_type": "stream",
     "text": [
      "Title: A Light in the Attic\n",
      "Price (GBP): £51.77\n",
      "Price (INR): ₹5384.08\n",
      "\n",
      "Title: Tipping the Velvet\n",
      "Price (GBP): £53.74\n",
      "Price (INR): ₹5588.96\n",
      "\n",
      "Title: Soumission\n",
      "Price (GBP): £50.10\n",
      "Price (INR): ₹5210.40\n",
      "\n",
      "Title: Sharp Objects\n",
      "Price (GBP): £47.82\n",
      "Price (INR): ₹4973.28\n",
      "\n",
      "Title: Sapiens: A Brief History of Humankind\n",
      "Price (GBP): £54.23\n",
      "Price (INR): ₹5639.92\n",
      "\n",
      "Title: The Requiem Red\n",
      "Price (GBP): £22.65\n",
      "Price (INR): ₹2355.60\n",
      "\n",
      "Title: The Dirty Little Secrets of Getting Your Dream Job\n",
      "Price (GBP): £33.34\n",
      "Price (INR): ₹3467.36\n",
      "\n",
      "Title: The Coming Woman: A Novel Based on the Life of the Infamous Feminist, Victoria Woodhull\n",
      "Price (GBP): £17.93\n",
      "Price (INR): ₹1864.72\n",
      "\n",
      "Title: The Boys in the Boat: Nine Americans and Their Epic Quest for Gold at the 1936 Berlin Olympics\n",
      "Price (GBP): £22.60\n",
      "Price (INR): ₹2350.40\n",
      "\n",
      "Title: The Black Maria\n",
      "Price (GBP): £52.15\n",
      "Price (INR): ₹5423.60\n",
      "\n",
      "Title: Starving Hearts (Triangular Trade Trilogy, #1)\n",
      "Price (GBP): £13.99\n",
      "Price (INR): ₹1454.96\n",
      "\n",
      "Title: Shakespeare's Sonnets\n",
      "Price (GBP): £20.66\n",
      "Price (INR): ₹2148.64\n",
      "\n",
      "Title: Set Me Free\n",
      "Price (GBP): £17.46\n",
      "Price (INR): ₹1815.84\n",
      "\n",
      "Title: Scott Pilgrim's Precious Little Life (Scott Pilgrim #1)\n",
      "Price (GBP): £52.29\n",
      "Price (INR): ₹5438.16\n",
      "\n",
      "Title: Rip it Up and Start Again\n",
      "Price (GBP): £35.02\n",
      "Price (INR): ₹3642.08\n",
      "\n",
      "Title: Our Band Could Be Your Life: Scenes from the American Indie Underground, 1981-1991\n",
      "Price (GBP): £57.25\n",
      "Price (INR): ₹5954.00\n",
      "\n",
      "Title: Olio\n",
      "Price (GBP): £23.88\n",
      "Price (INR): ₹2483.52\n",
      "\n",
      "Title: Mesaerion: The Best Science Fiction Stories 1800-1849\n",
      "Price (GBP): £37.59\n",
      "Price (INR): ₹3909.36\n",
      "\n",
      "Title: Libertarianism for Beginners\n",
      "Price (GBP): £51.33\n",
      "Price (INR): ₹5338.32\n",
      "\n",
      "Title: It's Only the Himalayas\n",
      "Price (GBP): £45.17\n",
      "Price (INR): ₹4697.68\n",
      "\n"
     ]
    }
   ],
   "source": [
    "book_data = []\n",
    "conversion_rate = 104 \n",
    "\n",
    "for book in books:\n",
    "    title = book.h3.a['title']\n",
    "    price_gbp = book.find('p', class_='price_color').text \n",
    "    \n",
    "  \n",
    "    price_gbp_cleaned = price_gbp.replace('£', '').replace('Â', '').strip()\n",
    "    \n",
    "    try:\n",
    "       \n",
    "        price_gbp_value = float(price_gbp_cleaned) if price_gbp_cleaned else 0.0\n",
    "        \n",
    "        \n",
    "        price_inr = price_gbp_value * conversion_rate\n",
    "    \n",
    "        print(f\"Title: {title}\\nPrice (GBP): £{price_gbp_value:.2f}\\nPrice (INR): ₹{price_inr:.2f}\\n\")\n",
    "        book_data.append({\n",
    "            \"Title\": title,\n",
    "            \"Price (GBP)\": f\"£{price_gbp_value:.2f}\",\n",
    "            \"Price (INR)\": f\"₹{price_inr:.2f}\"\n",
    "        })\n",
    "    except ValueError:\n",
    "        print(f\"Error converting price for '{title}': {price_gbp}\")"
   ]
  },
  {
   "cell_type": "code",
   "execution_count": 10,
   "id": "8fb896ad-2f8f-421c-9dfd-322a2b503285",
   "metadata": {},
   "outputs": [
    {
     "data": {
      "image/png": "[encoded data removed]",
      "text/plain": [
       "<Figure size 1000x600 with 1 Axes>"
      ]
     },
     "metadata": {},
     "output_type": "display_data"
    }
   ],
   "source": [
    "import matplotlib.pyplot as plt\n",
    "\n",
    "\n",
    "book_data = [\n",
    "    {\"Title\": \"Book One\", \"price\": \"£12.99\"},\n",
    "    {\"Title\": \"Book Two\", \"price\": \"£8.50\"},\n",
    "    {\"Title\": \"Book Three\", \"price\": \"£15.20\"},\n",
    "]\n",
    "\n",
    "\n",
    "titles = [book[\"Title\"] for book in book_data]\n",
    "prices = [float(book[\"price\"].lstrip('£')) for book in book_data]\n",
    "\n",
    "\n",
    "plt.figure(figsize=(10, 6))\n",
    "plt.bar(titles, prices, color='skyblue')\n",
    "plt.xlabel(\"Book Title\")\n",
    "plt.ylabel(\"Price (£)\")\n",
    "plt.title(\"Book Prices\")\n",
    "plt.xticks(rotation=45)\n",
    "plt.tight_layout()\n",
    "plt.show()\n"
   ]
  },
  {
   "cell_type": "code",
   "execution_count": null,
   "id": "de1ffa14-55be-4b3e-925d-32fc8a21abec",
   "metadata": {},
   "outputs": [],
   "source": []
  }
 ],
 "metadata": {
  "kernelspec": {
   "display_name": "Python 3 (ipykernel)",
   "language": "python",
   "name": "python3"
  },
  "language_info": {
   "codemirror_mode": {
    "name": "ipython",
    "version": 3
   },
   "file_extension": ".py",
   "mimetype": "text/x-python",
   "name": "python",
   "nbconvert_exporter": "python",
   "pygments_lexer": "ipython3",
   "version": "3.13.5"
  }
 },
 "nbformat": 4,
 "nbformat_minor": 5
}
