{
 "cells": [
  {
   "cell_type": "code",
   "execution_count": 0,
   "metadata": {
    "application/vnd.databricks.v1+cell": {
     "cellMetadata": {},
     "inputWidgets": {},
     "nuid": "8f40d1fa-c03a-4eac-870e-334f82028cce",
     "showTitle": false,
     "tableResultSettingsMap": {},
     "title": ""
    }
   },
   "outputs": [],
   "source": [
    "import logging\n",
    "# Set up basic logging\n",
    "logging.basicConfig(\n",
    " filename='etl_log.txt',\n",
    " level=logging.INFO,\n",
    " format='%(asctime)s - %(levelname)s - %(message)s'\n",
    ")\n",
    "import pandas as pd\n",
    "import numpy as np\n",
    "import mysql.connector\n",
    "import datetime"
   ]
  },
  {
   "cell_type": "code",
   "execution_count": 0,
   "metadata": {
    "application/vnd.databricks.v1+cell": {
     "cellMetadata": {},
     "inputWidgets": {},
     "nuid": "0a9275b9-036b-4f1a-9b65-4356f23d7766",
     "showTitle": false,
     "tableResultSettingsMap": {},
     "title": ""
    }
   },
   "outputs": [
    {
     "output_type": "stream",
     "name": "stdout",
     "output_type": "stream",
     "text": [
      "Raw data loaded:\n   EMPLOYEE_ID FIRST_NAME  LAST_NAME     EMAIL  PHONE_NUMBER  HIRE_DATE  \\\n0          198     Donald   OConnell  DOCONNEL  650.507.9833  21-Jun-07   \n1          199    Douglas      Grant    DGRANT  650.507.9844  13-Jan-08   \n2          200   Jennifer     Whalen   JWHALEN  515.123.4444  17-Sep-03   \n3          201    Michael  Hartstein  MHARTSTE  515.123.5555  17-Feb-04   \n4          202        Pat        Fay      PFAY  603.123.6666  17-Aug-05   \n\n     JOB_ID  SALARY  \n0  SH_CLERK    2600  \n1  SH_CLERK    2600  \n2   AD_ASST    4400  \n3    MK_MAN   13000  \n4    MK_REP    6000  \n['EMPLOYEE_ID', 'FIRST_NAME', 'LAST_NAME', 'EMAIL', 'PHONE_NUMBER', 'HIRE_DATE', 'JOB_ID', 'SALARY']\n"
     ]
    }
   ],
   "source": [
    "csv_file_path = \"C:/Users/Sakthi/Downloads/employees1.csv\"\n",
    "df = pd.read_csv(csv_file_path)\n",
    "print(\"Raw data loaded:\")\n",
    "print(df.head())\n",
    "print(df.columns.tolist())\n",
    "logging.info(\"CSV loaded successfully.\")"
   ]
  },
  {
   "cell_type": "code",
   "execution_count": 0,
   "metadata": {
    "application/vnd.databricks.v1+cell": {
     "cellMetadata": {},
     "inputWidgets": {},
     "nuid": "231ad212-f2e7-42fc-a8a2-4db14becc477",
     "showTitle": false,
     "tableResultSettingsMap": {},
     "title": ""
    }
   },
   "outputs": [],
   "source": [
    "df.fillna({\n",
    " 'EMAIL': 'not_provided@example.com',\n",
    " 'PHONE_NUMBER': '0000000000',\n",
    " 'HIRE_DATE': '01-Jan-00',\n",
    " 'SALARY': 0\n",
    "}, inplace=True)"
   ]
  },
  {
   "cell_type": "code",
   "execution_count": 0,
   "metadata": {
    "application/vnd.databricks.v1+cell": {
     "cellMetadata": {},
     "inputWidgets": {},
     "nuid": "45e48a2c-b0e6-412b-b0e9-4ebaf43ce05f",
     "showTitle": false,
     "tableResultSettingsMap": {},
     "title": ""
    }
   },
   "outputs": [
    {
     "output_type": "stream",
     "name": "stdout",
     "output_type": "stream",
     "text": [
      "['employee_id', 'first_name', 'last_name', 'email', 'phone_number', 'hire_date', 'job_id', 'salary']\n"
     ]
    }
   ],
   "source": [
    "df.columns = [col.strip().lower().replace(' ', '_') for col in df.columns]\n",
    "print(df.columns.tolist())"
   ]
  },
  {
   "cell_type": "code",
   "execution_count": 0,
   "metadata": {
    "application/vnd.databricks.v1+cell": {
     "cellMetadata": {},
     "inputWidgets": {},
     "nuid": "6f186c5f-01b9-4d05-9670-fe458ad6b9f5",
     "showTitle": false,
     "tableResultSettingsMap": {},
     "title": ""
    }
   },
   "outputs": [],
   "source": [
    "df['hire_date'] = pd.to_datetime(df['hire_date'], format='%d-%b-%y',\n",
    "errors='coerce')\n",
    "# Replace invalid dates with a default\n",
    "df['hire_date'] = df['hire_date'].fillna(pd.to_datetime('2000-01-01'))\n",
    "# Replace non-numeric salaries with 0\n",
    "df['salary'] = pd.to_numeric(df['salary'], errors='coerce').fillna(0).astype(int)\n",
    "logging.info(\"Data cleaning completed.\")"
   ]
  },
  {
   "cell_type": "code",
   "execution_count": 0,
   "metadata": {
    "application/vnd.databricks.v1+cell": {
     "cellMetadata": {},
     "inputWidgets": {},
     "nuid": "46790f10-43f5-4d50-a420-d89d7c72c0fb",
     "showTitle": false,
     "tableResultSettingsMap": {},
     "title": ""
    }
   },
   "outputs": [],
   "source": [
    "mydb = mysql.connector.connect(\n",
    " host=\"localhost\",\n",
    " user=\"root\",\n",
    " password=\"9625015\",\n",
    " database=\"employee\" # <-- change this\n",
    ")\n",
    "cursor = mydb.cursor()"
   ]
  },
  {
   "cell_type": "code",
   "execution_count": 0,
   "metadata": {
    "application/vnd.databricks.v1+cell": {
     "cellMetadata": {},
     "inputWidgets": {},
     "nuid": "04d4de2c-edd5-427d-a196-346746f71878",
     "showTitle": false,
     "tableResultSettingsMap": {},
     "title": ""
    }
   },
   "outputs": [],
   "source": [
    "cursor.execute(\"\"\"\n",
    " CREATE TABLE IF NOT EXISTS salary_2 (\n",
    " empid INT,\n",
    " firstname VARCHAR(50),\n",
    " lastname VARCHAR(50),\n",
    " email VARCHAR(100),\n",
    " phone VARCHAR(20),\n",
    " hire_date DATE,\n",
    " job_id VARCHAR(20),\n",
    " salary INT\n",
    " )\n",
    "\"\"\")"
   ]
  },
  {
   "cell_type": "code",
   "execution_count": 0,
   "metadata": {
    "application/vnd.databricks.v1+cell": {
     "cellMetadata": {},
     "inputWidgets": {},
     "nuid": "5f39de58-3e1f-493a-a52c-4837d77c8558",
     "showTitle": false,
     "tableResultSettingsMap": {},
     "title": ""
    }
   },
   "outputs": [],
   "source": [
    "for index, row in df.iterrows():\n",
    " sql = \"\"\"\n",
    " INSERT INTO salary_2 (empid, firstname, lastname, email, phone,\n",
    "hire_date, job_id, salary)\n",
    " VALUES (%s, %s, %s, %s, %s, %s, %s, %s)\n",
    " ON DUPLICATE KEY UPDATE\n",
    " firstname=VALUES(firstname),\n",
    " lastname=VALUES(lastname),\n",
    " email=VALUES(email),\n",
    " phone=VALUES(phone),\n",
    " hire_date=VALUES(hire_date),\n",
    " job_id=VALUES(job_id),\n",
    " salary=VALUES(salary)\n",
    " \"\"\""
   ]
  },
  {
   "cell_type": "code",
   "execution_count": 0,
   "metadata": {
    "application/vnd.databricks.v1+cell": {
     "cellMetadata": {},
     "inputWidgets": {},
     "nuid": "63459e71-31d3-4c66-b143-c151193db113",
     "showTitle": false,
     "tableResultSettingsMap": {},
     "title": ""
    }
   },
   "outputs": [],
   "source": [
    "values = (\n",
    " int(row['employee_id']),\n",
    " row['first_name'],\n",
    " row['last_name'],\n",
    " row['email'],\n",
    " row['phone_number'],\n",
    " row['hire_date'].date(),\n",
    " row['job_id'],\n",
    " int(row['salary'])\n",
    " )\n",
    "cursor.execute(sql, values)"
   ]
  },
  {
   "cell_type": "code",
   "execution_count": 0,
   "metadata": {
    "application/vnd.databricks.v1+cell": {
     "cellMetadata": {},
     "inputWidgets": {},
     "nuid": "73903ee4-0fa4-488a-bed7-42e4b91c7994",
     "showTitle": false,
     "tableResultSettingsMap": {},
     "title": ""
    }
   },
   "outputs": [
    {
     "output_type": "stream",
     "name": "stdout",
     "output_type": "stream",
     "text": [
      "ETL process completed successfully.\n"
     ]
    }
   ],
   "source": [
    "mydb.commit()\n",
    "cursor.close()\n",
    "mydb.close()\n",
    "logging.error(\"Something went wrong\", exc_info=True)\n",
    "print(\"ETL process completed successfully.\")"
   ]
  },
  {
   "cell_type": "code",
   "execution_count": 0,
   "metadata": {
    "application/vnd.databricks.v1+cell": {
     "cellMetadata": {},
     "inputWidgets": {},
     "nuid": "a6fa2f34-6d05-4be8-80e4-bdc6c39a0124",
     "showTitle": false,
     "tableResultSettingsMap": {},
     "title": ""
    }
   },
   "outputs": [
    {
     "output_type": "stream",
     "name": "stdout",
     "output_type": "stream",
     "text": [
      "C:\\Users\\Sakthi\n"
     ]
    },
    {
     "output_type": "stream",
     "name": "stderr",
     "output_type": "stream",
     "text": [
      "[NbConvertApp] Converting notebook ETL.ipynb to script\n[NbConvertApp] Writing 2425 bytes to ETL.py\n"
     ]
    }
   ],
   "source": [
    "import os\n",
    "print(os.getcwd())\n",
    "get_ipython().system('jupyter nbconvert --to script ETL.ipynb')"
   ]
  },
  {
   "cell_type": "code",
   "execution_count": 0,
   "metadata": {
    "application/vnd.databricks.v1+cell": {
     "cellMetadata": {},
     "inputWidgets": {},
     "nuid": "bc55e4ce-9fc8-464c-8646-75eb32e91bdf",
     "showTitle": false,
     "tableResultSettingsMap": {},
     "title": ""
    }
   },
   "outputs": [],
   "source": []
  }
 ],
 "metadata": {
  "application/vnd.databricks.v1+notebook": {
   "computePreferences": null,
   "dashboards": [],
   "environmentMetadata": null,
   "inputWidgetPreferences": null,
   "language": "python",
   "notebookMetadata": {},
   "notebookName": "ETL (1)",
   "widgets": {}
  },
  "kernelspec": {
   "display_name": "Python (my_env)",
   "language": "python",
   "name": "my_env"
  },
  "language_info": {
   "name": "python"
  }
 },
 "nbformat": 4,
 "nbformat_minor": 0
}
