{
 "cells": [
  {
   "cell_type": "code",
   "execution_count": 0,
   "metadata": {
    "application/vnd.databricks.v1+cell": {
     "cellMetadata": {},
     "inputWidgets": {},
     "nuid": "cf9635d9-a422-4fee-ae71-91f986b03270",
     "showTitle": false,
     "tableResultSettingsMap": {},
     "title": ""
    }
   },
   "outputs": [],
   "source": [
    "import pandas as pd\n",
    "import numpy as np"
   ]
  },
  {
   "cell_type": "code",
   "execution_count": 0,
   "metadata": {
    "application/vnd.databricks.v1+cell": {
     "cellMetadata": {},
     "inputWidgets": {},
     "nuid": "0deb5fba-d778-42f7-b2ab-abf60505909d",
     "showTitle": false,
     "tableResultSettingsMap": {},
     "title": ""
    }
   },
   "outputs": [],
   "source": [
    "np.random.seed(42)\n",
    "#Create 30 employee IDs\n",
    "employee_ids = [f'EMP_{i:03d}' for i in range (1,31)]\n",
    "dates = pd. date_range('2025-07-01',periods=30, freq='D')"
   ]
  },
  {
   "cell_type": "code",
   "execution_count": 0,
   "metadata": {
    "application/vnd.databricks.v1+cell": {
     "cellMetadata": {},
     "inputWidgets": {},
     "nuid": "78353f44-9bf7-4cfe-a3db-40c32d5d9e69",
     "showTitle": false,
     "tableResultSettingsMap": {},
     "title": ""
    }
   },
   "outputs": [],
   "source": [
    "#Simulate working hours (between 4 and 10 hours/day)\n",
    "data = {\n",
    "\n",
    " 'Date': np.tile(dates, len(employee_ids)),\n",
    " 'Employee_ID' : np.repeat(employee_ids, len(dates)),\n",
    " 'Working_Hours': np.random.uniform(4, 10, size=len(dates)\n",
    "* len(employee_ids)).round(2)\n",
    "}\n"
   ]
  },
  {
   "cell_type": "code",
   "execution_count": 0,
   "metadata": {
    "application/vnd.databricks.v1+cell": {
     "cellMetadata": {},
     "inputWidgets": {},
     "nuid": "eb80d691-1f4c-4114-8633-bb1405841113",
     "showTitle": false,
     "tableResultSettingsMap": {},
     "title": ""
    }
   },
   "outputs": [],
   "source": [
    "df = pd.DataFrame(data)\n",
    "#Save to CSV\n",
    "df.to_csv('employee_working_hours.csv', index=False)\n",
    "#Read from CSV\n",
    "df_csv = pd.read_csv('employee_working_hours.csv')"
   ]
  },
  {
   "cell_type": "code",
   "execution_count": 0,
   "metadata": {
    "application/vnd.databricks.v1+cell": {
     "cellMetadata": {},
     "inputWidgets": {},
     "nuid": "4aa8b15f-dfb2-451b-a4a9-214e5469b83d",
     "showTitle": false,
     "tableResultSettingsMap": {},
     "title": ""
    }
   },
   "outputs": [
    {
     "output_type": "stream",
     "name": "stdout",
     "output_type": "stream",
     "text": [
      "         Date Employee_ID  Working_Hours\n0  2025-07-01     EMP_001           6.25\n1  2025-07-02     EMP_001           9.70\n2  2025-07-03     EMP_001           8.39\n3  2025-07-04     EMP_001           7.59\n4  2025-07-05     EMP_001           4.94\n       Working_Hours\ncount     900.000000\nmean        6.954233\nstd         1.762088\nmin         4.030000\n25%         5.387500\n50%         7.010000\n75%         8.490000\nmax        10.000000\n30\n"
     ]
    }
   ],
   "source": [
    "print(df_csv.head())\n",
    "print(df_csv.describe())\n",
    "print(df_csv['Employee_ID'].nunique())"
   ]
  },
  {
   "cell_type": "code",
   "execution_count": 0,
   "metadata": {
    "application/vnd.databricks.v1+cell": {
     "cellMetadata": {},
     "inputWidgets": {},
     "nuid": "ef4f6e86-cbc8-473e-a69c-af1cc1688750",
     "showTitle": false,
     "tableResultSettingsMap": {},
     "title": ""
    }
   },
   "outputs": [],
   "source": [
    "total_hours =df_csv.groupby('Employee_ID')['Working_Hours'].sum().sort_values(ascending=False)\n",
    "\n"
   ]
  },
  {
   "cell_type": "code",
   "execution_count": 0,
   "metadata": {
    "application/vnd.databricks.v1+cell": {
     "cellMetadata": {},
     "inputWidgets": {},
     "nuid": "9722dc68-b730-4e55-ae76-a4cd6400f930",
     "showTitle": false,
     "tableResultSettingsMap": {},
     "title": ""
    }
   },
   "outputs": [],
   "source": [
    "avg_daily =df_csv.groupby('Employee_ID')['Working_Hours'].mean()\n"
   ]
  },
  {
   "cell_type": "code",
   "execution_count": 0,
   "metadata": {
    "application/vnd.databricks.v1+cell": {
     "cellMetadata": {},
     "inputWidgets": {},
     "nuid": "db483a69-c3a3-4b9d-8e89-fdbbe554b4c8",
     "showTitle": false,
     "tableResultSettingsMap": {},
     "title": ""
    }
   },
   "outputs": [],
   "source": [
    "threshold_low = 5\n",
    "threshold_high = 9"
   ]
  },
  {
   "cell_type": "code",
   "execution_count": 0,
   "metadata": {
    "application/vnd.databricks.v1+cell": {
     "cellMetadata": {},
     "inputWidgets": {},
     "nuid": "82ff10bc-f7ce-456e-aa06-36db535f6eca",
     "showTitle": false,
     "tableResultSettingsMap": {},
     "title": ""
    },
    "scrolled": true
   },
   "outputs": [
    {
     "output_type": "display_data",
     "data": {
      "text/plain": [
       "  \u001B[36mCell\u001B[39m\u001B[36m \u001B[39m\u001B[32mIn[11]\u001B[39m\u001B[32m, line 1\u001B[39m\n",
       "\u001B[31m    \u001B[39m\u001B[31mdf_csv['Low_Hour_Flag'] = df_csv['Working_Hours'] <\u001B[39m\n",
       "                                                       ^\n",
       "\u001B[31mSyntaxError\u001B[39m\u001B[31m:\u001B[39m invalid syntax\n"
      ]
     },
     "metadata": {
      "application/vnd.databricks.v1+output": {
       "arguments": {},
       "data": "  \u001B[36mCell\u001B[39m\u001B[36m \u001B[39m\u001B[32mIn[11]\u001B[39m\u001B[32m, line 1\u001B[39m\n\u001B[31m    \u001B[39m\u001B[31mdf_csv['Low_Hour_Flag'] = df_csv['Working_Hours'] <\u001B[39m\n                                                       ^\n\u001B[31mSyntaxError\u001B[39m\u001B[31m:\u001B[39m invalid syntax\n",
       "errorSummary": "<span class='ansi-red-fg'>SyntaxError</span>: invalid syntax (3031550456.py, line 1)",
       "errorTraceType": "ansi",
       "metadata": {},
       "type": "ipynbError"
      }
     },
     "output_type": "display_data"
    }
   ],
   "source": [
    "df_csv['Low_Hour_Flag'] = df_csv['Working_Hours'] <threshold_low\n",
    "\n",
    "df_csv['High_Hour_Flag']=df_csv['Working_Hours'] >threshold_high\n"
   ]
  },
  {
   "cell_type": "code",
   "execution_count": 0,
   "metadata": {
    "application/vnd.databricks.v1+cell": {
     "cellMetadata": {},
     "inputWidgets": {},
     "nuid": "29297fa9-c164-43f1-a719-0f2ae5776d9c",
     "showTitle": false,
     "tableResultSettingsMap": {},
     "title": ""
    }
   },
   "outputs": [],
   "source": [
    "print(df_csv[df_csv['Low_Hour_Flag'] |\n",
    "df_csv['High_Hour_Flag']].head())"
   ]
  },
  {
   "cell_type": "code",
   "execution_count": 0,
   "metadata": {
    "application/vnd.databricks.v1+cell": {
     "cellMetadata": {},
     "inputWidgets": {},
     "nuid": "c4280eca-5f5c-46d7-9b64-cb2b7aaddd4b",
     "showTitle": false,
     "tableResultSettingsMap": {},
     "title": ""
    }
   },
   "outputs": [],
   "source": [
    "import matplotlib.pyplot as plt\n",
    "import seaborn as sns\n",
    "#Bar chart of top 10 employees with highest total hours\n",
    "top10 = total_hours.head(10)\n",
    "plt.figure(figsize=(10,5))\n",
    "sns.barplot(x=top10.index, y=top10.values)\n",
    "plt.xticks(rotation=45)\n",
    "plt.title('Top 10 Employees by Total working Hours')\n",
    "plt.ylabel('Hours')\n",
    "plt.tight_layout()\n",
    "plt.show()"
   ]
  },
  {
   "cell_type": "code",
   "execution_count": 0,
   "metadata": {
    "application/vnd.databricks.v1+cell": {
     "cellMetadata": {},
     "inputWidgets": {},
     "nuid": "ca8cc152-5e86-4787-a034-62f8bd93b3da",
     "showTitle": false,
     "tableResultSettingsMap": {},
     "title": ""
    }
   },
   "outputs": [],
   "source": []
  }
 ],
 "metadata": {
  "application/vnd.databricks.v1+notebook": {
   "computePreferences": null,
   "dashboards": [],
   "environmentMetadata": null,
   "inputWidgetPreferences": null,
   "language": "python",
   "notebookMetadata": {},
   "notebookName": "Employees Performance Analysis (2)",
   "widgets": {}
  },
  "kernelspec": {
   "display_name": "Python (my_env)",
   "language": "python",
   "name": "my_env"
  },
  "language_info": {
   "name": "python"
  }
 },
 "nbformat": 4,
 "nbformat_minor": 0
}
